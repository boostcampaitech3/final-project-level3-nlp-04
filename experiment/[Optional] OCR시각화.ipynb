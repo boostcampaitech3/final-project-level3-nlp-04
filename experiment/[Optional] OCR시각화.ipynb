{
 "cells": [
  {
   "cell_type": "markdown",
   "id": "5df9963a-d606-4879-9182-a0a64358f393",
   "metadata": {},
   "source": [
    "우리의 실험이 편하도록 OCR을 시각화 한다.\n",
    "\n",
    "OCR인식 된 곳을 박스형태로 나타내고 박스 상단 혹은 하단에 인식된 텍스트를 이미지 위에 작성한다."
   ]
  },
  {
   "cell_type": "code",
   "execution_count": null,
   "id": "cbd95010-dd34-4ab6-8715-bbcc5265a7d9",
   "metadata": {},
   "outputs": [],
   "source": []
  }
 ],
 "metadata": {
  "kernelspec": {
   "display_name": "Python 3 (ipykernel)",
   "language": "python",
   "name": "python3"
  },
  "language_info": {
   "codemirror_mode": {
    "name": "ipython",
    "version": 3
   },
   "file_extension": ".py",
   "mimetype": "text/x-python",
   "name": "python",
   "nbconvert_exporter": "python",
   "pygments_lexer": "ipython3",
   "version": "3.8.5"
  }
 },
 "nbformat": 4,
 "nbformat_minor": 5
}
