{
 "cells": [
  {
   "cell_type": "markdown",
   "metadata": {},
   "source": [
    "출처\n",
    "- https://towardsdatascience.com/evaluating-ocr-output-quality-with-character-error-rate-cer-and-word-error-rate-wer-853175297510\n",
    "- https://dl.acm.org/doi/fullHtml/10.1145/3453476\n",
    "- https://github.com/zszyellow/WER-in-python/blob/master/wer.py\n",
    "- https://mingchin.tistory.com/240\n",
    "\n",
    "OCR Metric\n",
    "- Character Error Rate (CER)\n",
    "    - D : 음성 인식된 텍스트에 잘못 삭제된 음절 수\n",
    "    - S : 음성 인식된 텍스트에 잘못 대체된 음절 수\n",
    "    - I : 음성 인식된 텍스트에 잘못 추가된 음절 수\n",
    "    - N : 정답 텍스트의 음절 수\n",
    "    > 음절 에러 비율(CER) = (S+D+I)/N\n",
    "- Word Error Rate (WER)\n",
    "    - D : 음성 인식된 텍스트에 잘못 삭제된 단어 수\n",
    "    - S : 음성 인식된 텍스트에 잘못 대체된 단어 수\n",
    "    - I : 음성 인식된 텍스트에 잘못 추가된 단어 수\n",
    "    - N : 정답 텍스트의 단어 수\n",
    "    > 단어 에러 비율(WER) = (S+D+I)/N      "
   ]
  },
  {
   "cell_type": "markdown",
   "metadata": {},
   "source": [
    "논문 내용 중 일부\n",
    "- Regarding NLP, several applications, i.e., named entity recognition (NER), part-of-speech (POS) tagging, text summarization, sentence boundary detection, topic modeling, sentiment analysis, text classification, named entity linking, and so on, are badly affected by OCR errors. Performance of NER tools, which locate proper names and categorise them into the set of predefined classes (i.e., person, location, organization), considerably degrades along with the increase in error rate (ER) of OCR output [59, 104, 158]. When the word error rate (WER) of the text increases from 0% to 2.7%, the F-score of the NER tool decreases around 3% [104]. With higher ER, the performance of NER drops much faster, for instance, from 90% to 60% when the WER of the text rises from 1% to 7% or when its character error rate (CER) increases from 8% to 20% [59].\n",
    "\n",
    "    - NLP 관련 application들은 대부분 OCR 오류의 영향을 많이 받음\n",
    "    - error rate of OCR output가 커질수록 성능 저하가 이루어짐.\n",
    "        - word error rate(WER)이 증가하면, NER task의 경우 f1 score가 감소하게 됨.\n",
    "        - character error rate(CER)도 마찬가지.\n"
   ]
  },
  {
   "cell_type": "code",
   "execution_count": 10,
   "metadata": {},
   "outputs": [
    {
     "name": "stdout",
     "output_type": "stream",
     "text": [
      "Collecting python-Levenshtein\n",
      "  Downloading python-Levenshtein-0.12.2.tar.gz (50 kB)\n",
      "\u001b[2K     \u001b[90m━━━━━━━━━━━━━━━━━━━━━━━━━━━━━━━━━━━━━━━━\u001b[0m \u001b[32m50.5/50.5 kB\u001b[0m \u001b[31m11.2 MB/s\u001b[0m eta \u001b[36m0:00:00\u001b[0m\n",
      "\u001b[?25h  Preparing metadata (setup.py) ... \u001b[?25ldone\n",
      "\u001b[?25hRequirement already satisfied: setuptools in /opt/conda/lib/python3.8/site-packages (from python-Levenshtein) (50.3.1.post20201107)\n",
      "Building wheels for collected packages: python-Levenshtein\n",
      "  Building wheel for python-Levenshtein (setup.py) ... \u001b[?25ldone\n",
      "\u001b[?25h  Created wheel for python-Levenshtein: filename=python_Levenshtein-0.12.2-cp38-cp38-linux_x86_64.whl size=172276 sha256=7f85d5069106043dc83b431d2ae2f42d3fe80fb59f554ef9f77baf3749db4514\n",
      "  Stored in directory: /opt/ml/.cache/pip/wheels/d7/0c/76/042b46eb0df65c3ccd0338f791210c55ab79d209bcc269e2c7\n",
      "Successfully built python-Levenshtein\n",
      "Installing collected packages: python-Levenshtein\n",
      "Successfully installed python-Levenshtein-0.12.2\n",
      "\u001b[33mWARNING: Running pip as the 'root' user can result in broken permissions and conflicting behaviour with the system package manager. It is recommended to use a virtual environment instead: https://pip.pypa.io/warnings/venv\u001b[0m\u001b[33m\n",
      "\u001b[0m"
     ]
    }
   ],
   "source": [
    "!pip install python-Levenshtein"
   ]
  },
  {
   "cell_type": "code",
   "execution_count": 11,
   "metadata": {},
   "outputs": [],
   "source": [
    "import sys\n",
    "import numpy\n",
    "import Levenshtein as Lev"
   ]
  },
  {
   "cell_type": "code",
   "execution_count": 3,
   "metadata": {},
   "outputs": [],
   "source": [
    "def editDistance(r, h):\n",
    "    \"\"\"\n",
    "    문자열 간의 유사도를 알아내는 edit distance 알고리즘을 적용하여 계산합니다.\n",
    "\n",
    "    Attributes:\n",
    "        r -> reference 문장을 split으로 분할하여 만든 단어 리스트\n",
    "        h -> hypothesis 문장을 split으로 분할하여 만든 단어 리스트\n",
    "    \"\"\"\n",
    "    d = numpy.zeros((len(r) + 1) * (len(h) + 1), dtype=numpy.uint8).reshape(\n",
    "        (len(r) + 1, len(h) + 1)\n",
    "    )\n",
    "    for i in range(len(r) + 1):\n",
    "        d[i][0] = i\n",
    "    for j in range(len(h) + 1):\n",
    "        d[0][j] = j\n",
    "    for i in range(1, len(r) + 1):\n",
    "        for j in range(1, len(h) + 1):\n",
    "            if r[i - 1] == h[j - 1]:\n",
    "                d[i][j] = d[i - 1][j - 1]\n",
    "            else:\n",
    "                substitute = d[i - 1][j - 1] + 1\n",
    "                insert = d[i][j - 1] + 1\n",
    "                delete = d[i - 1][j] + 1\n",
    "                d[i][j] = min(substitute, insert, delete)\n",
    "    return d"
   ]
  },
  {
   "cell_type": "code",
   "execution_count": 4,
   "metadata": {},
   "outputs": [],
   "source": [
    "def getStepList(r, h, d):\n",
    "    \"\"\"\n",
    "    동적 프로그래밍 프로세스에서 Step list를 가져옵니다.\n",
    "\n",
    "    Attributes:\n",
    "        r -> reference 문장을 split으로 분할하여 만든 단어 리스트\n",
    "        h -> hypothesis 문장을 split으로 분할하여 만든 단어 리스트\n",
    "        d -> h와 r의 edit distance를 계산할 때 만들어진 matrix\n",
    "    \"\"\"\n",
    "    x = len(r)\n",
    "    y = len(h)\n",
    "    list = []\n",
    "    while True:\n",
    "        if x == 0 and y == 0:\n",
    "            break\n",
    "        elif x >= 1 and y >= 1 and d[x][y] == d[x - 1][y - 1] and r[x - 1] == h[y - 1]:\n",
    "            list.append(\"e\")\n",
    "            x = x - 1\n",
    "            y = y - 1\n",
    "        elif y >= 1 and d[x][y] == d[x][y - 1] + 1:\n",
    "            list.append(\"i\")\n",
    "            x = x\n",
    "            y = y - 1\n",
    "        elif x >= 1 and y >= 1 and d[x][y] == d[x - 1][y - 1] + 1:\n",
    "            list.append(\"s\")\n",
    "            x = x - 1\n",
    "            y = y - 1\n",
    "        else:\n",
    "            list.append(\"d\")\n",
    "            x = x - 1\n",
    "            y = y\n",
    "    return list[::-1]"
   ]
  },
  {
   "cell_type": "code",
   "execution_count": 5,
   "metadata": {},
   "outputs": [],
   "source": [
    "def alignedPrint(list, r, h, result):\n",
    "    \"\"\"\n",
    "    reference와 hypothesis 문장을 일렬로 비교한 결과를 출력합니다.\n",
    "\n",
    "    Attributes:\n",
    "        list   -> Step list\n",
    "        r      -> reference 문장을 split으로 분할하여 만든 단어 리스트\n",
    "        h      -> hypothesis 문장을 split으로 분할하여 만든 단어 리스트\n",
    "        result -> edit distnace를 기반으로 계산된 rate\n",
    "    \"\"\"\n",
    "    print(\"REF:\", end=\" \")\n",
    "    for i in range(len(list)):\n",
    "        if list[i] == \"i\":\n",
    "            count = 0\n",
    "            for j in range(i):\n",
    "                if list[j] == \"d\":\n",
    "                    count += 1\n",
    "            index = i - count\n",
    "            print(\" \" * (len(h[index])), end=\" \")\n",
    "        elif list[i] == \"s\":\n",
    "            count1 = 0\n",
    "            for j in range(i):\n",
    "                if list[j] == \"i\":\n",
    "                    count1 += 1\n",
    "            index1 = i - count1\n",
    "            count2 = 0\n",
    "            for j in range(i):\n",
    "                if list[j] == \"d\":\n",
    "                    count2 += 1\n",
    "            index2 = i - count2\n",
    "            if len(r[index1]) < len(h[index2]):\n",
    "                print(r[index1] + \" \" * (len(h[index2]) - len(r[index1])), end=\" \")\n",
    "            else:\n",
    "                print(r[index1], end=\" \"),\n",
    "        else:\n",
    "            count = 0\n",
    "            for j in range(i):\n",
    "                if list[j] == \"i\":\n",
    "                    count += 1\n",
    "            index = i - count\n",
    "            print(r[index], end=\" \"),\n",
    "\n",
    "    print(\"\\nHYP:\", end=\" \")\n",
    "    for i in range(len(list)):\n",
    "        if list[i] == \"d\":\n",
    "            count = 0\n",
    "            for j in range(i):\n",
    "                if list[j] == \"i\":\n",
    "                    count += 1\n",
    "            index = i - count\n",
    "            print(\" \" * (len(r[index])), end=\" \")\n",
    "        elif list[i] == \"s\":\n",
    "            count1 = 0\n",
    "            for j in range(i):\n",
    "                if list[j] == \"i\":\n",
    "                    count1 += 1\n",
    "            index1 = i - count1\n",
    "            count2 = 0\n",
    "            for j in range(i):\n",
    "                if list[j] == \"d\":\n",
    "                    count2 += 1\n",
    "            index2 = i - count2\n",
    "            if len(r[index1]) > len(h[index2]):\n",
    "                print(h[index2] + \" \" * (len(r[index1]) - len(h[index2])), end=\" \")\n",
    "            else:\n",
    "                print(h[index2], end=\" \")\n",
    "        else:\n",
    "            count = 0\n",
    "            for j in range(i):\n",
    "                if list[j] == \"d\":\n",
    "                    count += 1\n",
    "            index = i - count\n",
    "            print(h[index], end=\" \")\n",
    "\n",
    "    print(\"\\nEVA:\", end=\" \")\n",
    "    for i in range(len(list)):\n",
    "        if list[i] == \"d\":\n",
    "            count = 0\n",
    "            for j in range(i):\n",
    "                if list[j] == \"i\":\n",
    "                    count += 1\n",
    "            index = i - count\n",
    "            print(\"D\" + \" \" * (len(r[index]) - 1), end=\" \")\n",
    "        elif list[i] == \"i\":\n",
    "            count = 0\n",
    "            for j in range(i):\n",
    "                if list[j] == \"d\":\n",
    "                    count += 1\n",
    "            index = i - count\n",
    "            print(\"I\" + \" \" * (len(h[index]) - 1), end=\" \")\n",
    "        elif list[i] == \"s\":\n",
    "            count1 = 0\n",
    "            for j in range(i):\n",
    "                if list[j] == \"i\":\n",
    "                    count1 += 1\n",
    "            index1 = i - count1\n",
    "            count2 = 0\n",
    "            for j in range(i):\n",
    "                if list[j] == \"d\":\n",
    "                    count2 += 1\n",
    "            index2 = i - count2\n",
    "            if len(r[index1]) > len(h[index2]):\n",
    "                print(\"S\" + \" \" * (len(r[index1]) - 1), end=\" \")\n",
    "            else:\n",
    "                print(\"S\" + \" \" * (len(h[index2]) - 1), end=\" \")\n",
    "        else:\n",
    "            count = 0\n",
    "            for j in range(i):\n",
    "                if list[j] == \"i\":\n",
    "                    count += 1\n",
    "            index = i - count\n",
    "            print(\" \" * (len(r[index])), end=\" \")\n",
    "    print(\"\\nWER: \" + result)"
   ]
  },
  {
   "cell_type": "code",
   "execution_count": 6,
   "metadata": {},
   "outputs": [],
   "source": [
    "def wer(r, h):\n",
    "    \"\"\"\n",
    "    Word Error Rate(WER)을 계산합니다.\n",
    "\n",
    "    Example :\n",
    "    >>> wer(\"what is it\".split(), \"what is\".split())\n",
    "    >>> REF: what is it\n",
    "        HYP: what is\n",
    "        EVA:         D\n",
    "        WER: 33.33%\n",
    "    \"\"\"\n",
    "    # build the matrix\n",
    "    d = editDistance(r, h)\n",
    "\n",
    "    # find out the manipulation steps\n",
    "    list = getStepList(r, h, d)\n",
    "\n",
    "    # print the result in aligned way\n",
    "    result = float(d[len(r)][len(h)]) / len(r) * 100\n",
    "    result = str(\"%.2f\" % result) + \"%\"\n",
    "    alignedPrint(list, r, h, result)"
   ]
  },
  {
   "cell_type": "code",
   "execution_count": 7,
   "metadata": {},
   "outputs": [
    {
     "name": "stdout",
     "output_type": "stream",
     "text": [
      "REF: what is it \n",
      "HYP: what is    \n",
      "EVA:         D  \n",
      "WER: 33.33%\n"
     ]
    }
   ],
   "source": [
    "wer(\"what is it\".split(), \"what is\".split())"
   ]
  },
  {
   "cell_type": "code",
   "execution_count": null,
   "metadata": {},
   "outputs": [],
   "source": [
    "# def wer(ref, hyp ,debug=False):\n",
    "#     r = ref.split()\n",
    "#     h = hyp.split()\n",
    "#     #costs will holds the costs, like in the Levenshtein distance algorithm\n",
    "#     costs = [[0 for inner in range(len(h)+1)] for outer in range(len(r)+1)]\n",
    "#     # backtrace will hold the operations we've done.\n",
    "#     # so we could later backtrace, like the WER algorithm requires us to.\n",
    "#     backtrace = [[0 for inner in range(len(h)+1)] for outer in range(len(r)+1)]\n",
    "\n",
    "#     OP_OK = 0\n",
    "#     OP_SUB = 1\n",
    "#     OP_INS = 2\n",
    "#     OP_DEL = 3\n",
    "\n",
    "#     DEL_PENALTY=1 # Tact\n",
    "#     INS_PENALTY=1 # Tact\n",
    "#     SUB_PENALTY=1 # Tact\n",
    "#     # First column represents the case where we achieve zero\n",
    "#     # hypothesis words by deleting all reference words.\n",
    "#     for i in range(1, len(r)+1):\n",
    "#         costs[i][0] = DEL_PENALTY*i\n",
    "#         backtrace[i][0] = OP_DEL\n",
    "\n",
    "#     # First row represents the case where we achieve the hypothesis\n",
    "#     # by inserting all hypothesis words into a zero-length reference.\n",
    "#     for j in range(1, len(h) + 1):\n",
    "#         costs[0][j] = INS_PENALTY * j\n",
    "#         backtrace[0][j] = OP_INS\n",
    "\n",
    "#     # computation\n",
    "#     for i in range(1, len(r)+1):\n",
    "#         for j in range(1, len(h)+1):\n",
    "#             if r[i-1] == h[j-1]:\n",
    "#                 costs[i][j] = costs[i-1][j-1]\n",
    "#                 backtrace[i][j] = OP_OK\n",
    "#             else:\n",
    "#                 substitutionCost = costs[i-1][j-1] + SUB_PENALTY # penalty is always 1\n",
    "#                 insertionCost    = costs[i][j-1] + INS_PENALTY   # penalty is always 1\n",
    "#                 deletionCost     = costs[i-1][j] + DEL_PENALTY   # penalty is always 1\n",
    "\n",
    "#                 costs[i][j] = min(substitutionCost, insertionCost, deletionCost)\n",
    "#                 if costs[i][j] == substitutionCost:\n",
    "#                     backtrace[i][j] = OP_SUB\n",
    "#                 elif costs[i][j] == insertionCost:\n",
    "#                     backtrace[i][j] = OP_INS\n",
    "#                 else:\n",
    "#                     backtrace[i][j] = OP_DEL\n",
    "\n",
    "#     # back trace though the best route:\n",
    "#     i = len(r)\n",
    "#     j = len(h)\n",
    "#     numSub = 0\n",
    "#     numDel = 0\n",
    "#     numIns = 0\n",
    "#     numCor = 0\n",
    "#     if debug:\n",
    "#         print(\"OP\\tREF\\tHYP\")\n",
    "#         lines = []\n",
    "#     while i > 0 or j > 0:\n",
    "#         if backtrace[i][j] == OP_OK:\n",
    "#             numCor += 1\n",
    "#             i-=1\n",
    "#             j-=1\n",
    "#             if debug:\n",
    "#                 lines.append(\"OK\\t\" + r[i]+\"\\t\"+h[j])\n",
    "#         elif backtrace[i][j] == OP_SUB:\n",
    "#             numSub +=1\n",
    "#             i-=1\n",
    "#             j-=1\n",
    "#             if debug:\n",
    "#                 lines.append(\"SUB\\t\" + r[i]+\"\\t\"+h[j])\n",
    "#         elif backtrace[i][j] == OP_INS:\n",
    "#             numIns += 1\n",
    "#             j-=1\n",
    "#             if debug:\n",
    "#                 lines.append(\"INS\\t\" + \"****\" + \"\\t\" + h[j])\n",
    "#         elif backtrace[i][j] == OP_DEL:\n",
    "#             numDel += 1\n",
    "#             i-=1\n",
    "#             if debug:\n",
    "#                 lines.append(\"DEL\\t\" + r[i]+\"\\t\"+\"****\")\n",
    "#     if debug:\n",
    "#         lines = reversed(lines)\n",
    "#         for line in lines:\n",
    "#             print(line)\n",
    "#         print(\"Ncor \" + str(numCor))\n",
    "#         print(\"Nsub \" + str(numSub))\n",
    "#         print(\"Ndel \" + str(numDel))\n",
    "#         print(\"Nins \" + str(numIns))\n",
    "#     return numCor, numSub, numDel, numIns, (numSub + numDel + numIns) / (float) (len(r))"
   ]
  },
  {
   "cell_type": "code",
   "execution_count": 19,
   "metadata": {},
   "outputs": [],
   "source": [
    "def cer(ref, hyp):\n",
    "    # ref = ref.replace(' ', '')\n",
    "    # hyp = hyp.replace(' ', '')\n",
    "    dist = Lev.distance(hyp, ref)\n",
    "    length = len(ref)\n",
    "    return dist, length, dist/length"
   ]
  },
  {
   "cell_type": "code",
   "execution_count": 15,
   "metadata": {},
   "outputs": [
    {
     "data": {
      "text/plain": [
       "(2, 8, 0.25)"
      ]
     },
     "execution_count": 15,
     "metadata": {},
     "output_type": "execute_result"
    }
   ],
   "source": [
    "cer(\"what is it\", \"what is\")"
   ]
  },
  {
   "cell_type": "code",
   "execution_count": 16,
   "metadata": {},
   "outputs": [
    {
     "name": "stdout",
     "output_type": "stream",
     "text": [
      "REF: my  name is kenneth \n",
      "HYP: myy nime iz kenneth \n",
      "EVA: S   S    S          \n",
      "WER: 75.00%\n"
     ]
    }
   ],
   "source": [
    "wer(\"my name is kenneth\".split(), \"my name is kenneth\".split())"
   ]
  },
  {
   "cell_type": "code",
   "execution_count": 20,
   "metadata": {},
   "outputs": [
    {
     "data": {
      "text/plain": [
       "(3, 18, 0.16666666666666666)"
      ]
     },
     "execution_count": 20,
     "metadata": {},
     "output_type": "execute_result"
    }
   ],
   "source": [
    "cer(\"my name is kenneth\", \"myy nime iz kenneth\")"
   ]
  },
  {
   "cell_type": "code",
   "execution_count": null,
   "metadata": {},
   "outputs": [],
   "source": []
  }
 ],
 "metadata": {
  "interpreter": {
   "hash": "d4d1e4263499bec80672ea0156c357c1ee493ec2b1c70f0acce89fc37c4a6abe"
  },
  "kernelspec": {
   "display_name": "Python 3.8.5 ('base')",
   "language": "python",
   "name": "python3"
  },
  "language_info": {
   "codemirror_mode": {
    "name": "ipython",
    "version": 3
   },
   "file_extension": ".py",
   "mimetype": "text/x-python",
   "name": "python",
   "nbconvert_exporter": "python",
   "pygments_lexer": "ipython3",
   "version": "3.8.5"
  },
  "orig_nbformat": 4
 },
 "nbformat": 4,
 "nbformat_minor": 2
}
