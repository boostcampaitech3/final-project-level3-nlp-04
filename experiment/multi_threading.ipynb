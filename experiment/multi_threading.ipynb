{
 "cells": [
  {
   "cell_type": "markdown",
   "id": "7002fec5-40be-4a7c-a087-d2cda0bb61c9",
   "metadata": {},
   "source": [
    "# Multi Threading w/ Concurrent.Futures"
   ]
  },
  {
   "cell_type": "markdown",
   "id": "699b83dd-e11a-40b2-85a3-33d435ddb007",
   "metadata": {},
   "source": [
    "## 0. 참고한 자료\n",
    "\n",
    "https://data-newbie.tistory.com/231"
   ]
  },
  {
   "cell_type": "code",
   "execution_count": 1,
   "id": "9b477d08",
   "metadata": {},
   "outputs": [],
   "source": [
    "import concurrent.futures\n",
    "import requests\n",
    "import time"
   ]
  },
  {
   "cell_type": "code",
   "execution_count": 19,
   "id": "4801390e",
   "metadata": {},
   "outputs": [],
   "source": [
    "def api(file_name):\n",
    "    start_time = time.time()\n",
    "\n",
    "    api_url = \"http://118.222.179.32:30001/ocr/\"\n",
    "    headers = {\"secret\": \"Boostcamp0001\"}\n",
    "    file_dict = {\"file\": open(file_name, \"rb\")}\n",
    "    response = requests.post(api_url, headers=headers, files=file_dict)\n",
    "    ocr_output = response.json()\n",
    "\n",
    "    end_time = time.time()\n",
    "    total_time = end_time - start_time\n",
    "    print(total_time, \"sec\")\n",
    "    "
   ]
  },
  {
   "cell_type": "code",
   "execution_count": 43,
   "id": "02fd0570",
   "metadata": {},
   "outputs": [
    {
     "name": "stdout",
     "output_type": "stream",
     "text": [
      "2.5860791206359863 sec\n",
      "'/opt/ml/img/raw_image_2.jpg' generated an exception: 'Future' object has no attribute 'total_time'\n",
      "2.628502607345581 sec\n",
      "'/opt/ml/img/raw_image_3.jpg' generated an exception: 'Future' object has no attribute 'total_time'\n",
      "2.61470890045166 sec\n",
      "'/opt/ml/img/raw_image_4.jpg' generated an exception: 'Future' object has no attribute 'total_time'\n",
      "2.6083872318267822 sec\n",
      "'/opt/ml/img/raw_image_5.jpg' generated an exception: 'Future' object has no attribute 'total_time'\n",
      "2.844529867172241 sec\n",
      "'/opt/ml/img/raw_image_1.jpg' generated an exception: 'Future' object has no attribute 'total_time'\n"
     ]
    }
   ],
   "source": [
    "file_list = [\"/opt/ml/img/raw_image_1.jpg\", \"/opt/ml/img/raw_image_2.jpg\", \"/opt/ml/img/raw_image_3.jpg\", \"/opt/ml/img/raw_image_4.jpg\", \"/opt/ml/img/raw_image_5.jpg\"]\n",
    "with concurrent.futures.ThreadPoolExecutor(max_workers=5) as exe:\n",
    "    future_to_api = {exe.submit(api, file): file for file in file_list}\n",
    "    # print(future_to_api) # dict\n",
    "    for future in concurrent.futures.as_completed(future_to_api):\n",
    "        # print(future) # <class 'concurrent.futures._base.Future'>\n",
    "\n",
    "        file_name = future_to_api[future]\n",
    "        # print(file_name) # file_name\n",
    "        try:\n",
    "            data = future\n",
    "            print(data) # None\n",
    "\n",
    "        except Exception as exp:\n",
    "            print(\"%r generated an exception: %s\" % (file_name, exp))\n",
    "            \n",
    "        else:\n",
    "            pass\n",
    "            # print(\"{} is {} bytes\".format(url, data))"
   ]
  }
 ],
 "metadata": {
  "interpreter": {
   "hash": "d4d1e4263499bec80672ea0156c357c1ee493ec2b1c70f0acce89fc37c4a6abe"
  },
  "kernelspec": {
   "display_name": "Python 3.8.13 ('base')",
   "language": "python",
   "name": "python3"
  },
  "language_info": {
   "codemirror_mode": {
    "name": "ipython",
    "version": 3
   },
   "file_extension": ".py",
   "mimetype": "text/x-python",
   "name": "python",
   "nbconvert_exporter": "python",
   "pygments_lexer": "ipython3",
   "version": "3.8.5"
  }
 },
 "nbformat": 4,
 "nbformat_minor": 5
}
