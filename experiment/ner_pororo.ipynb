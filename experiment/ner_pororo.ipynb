{
 "cells": [
  {
   "cell_type": "code",
   "execution_count": 1,
   "metadata": {},
   "outputs": [
    {
     "name": "stdout",
     "output_type": "stream",
     "text": [
      "Collecting pororo\n",
      "  Downloading pororo-0.4.2-py3-none-any.whl (256 kB)\n",
      "\u001b[2K     \u001b[90m━━━━━━━━━━━━━━━━━━━━━━━━━━━━━━━━━━━━━━\u001b[0m \u001b[32m256.1/256.1 kB\u001b[0m \u001b[31m26.0 MB/s\u001b[0m eta \u001b[36m0:00:00\u001b[0m\n",
      "\u001b[?25hRequirement already satisfied: joblib in /opt/conda/lib/python3.8/site-packages (from pororo) (1.1.0)\n",
      "Collecting marisa-trie\n",
      "  Downloading marisa_trie-0.7.7-cp38-cp38-manylinux_2_5_x86_64.manylinux1_x86_64.manylinux_2_12_x86_64.manylinux2010_x86_64.whl (1.3 MB)\n",
      "\u001b[2K     \u001b[90m━━━━━━━━━━━━━━━━━━━━━━━━━━━━━━━━━━━━━━━━\u001b[0m \u001b[32m1.3/1.3 MB\u001b[0m \u001b[31m66.3 MB/s\u001b[0m eta \u001b[36m0:00:00\u001b[0m\n",
      "\u001b[?25hCollecting whoosh\n",
      "  Downloading Whoosh-2.7.4-py2.py3-none-any.whl (468 kB)\n",
      "\u001b[2K     \u001b[90m━━━━━━━━━━━━━━━━━━━━━━━━━━━━━━━━━━━━━━\u001b[0m \u001b[32m468.8/468.8 kB\u001b[0m \u001b[31m52.7 MB/s\u001b[0m eta \u001b[36m0:00:00\u001b[0m\n",
      "\u001b[?25hCollecting g2p-en\n",
      "  Downloading g2p_en-2.1.0-py3-none-any.whl (3.1 MB)\n",
      "\u001b[2K     \u001b[90m━━━━━━━━━━━━━━━━━━━━━━━━━━━━━━━━━━━━━━━━\u001b[0m \u001b[32m3.1/3.1 MB\u001b[0m \u001b[31m78.5 MB/s\u001b[0m eta \u001b[36m0:00:00\u001b[0m:00:01\u001b[0m\n",
      "\u001b[?25hCollecting sentence-transformers>=0.4.1.2\n",
      "  Downloading sentence-transformers-2.2.0.tar.gz (79 kB)\n",
      "\u001b[2K     \u001b[90m━━━━━━━━━━━━━━━━━━━━━━━━━━━━━━━━━━━━━━━━\u001b[0m \u001b[32m79.7/79.7 kB\u001b[0m \u001b[31m17.8 MB/s\u001b[0m eta \u001b[36m0:00:00\u001b[0m\n",
      "\u001b[?25h  Preparing metadata (setup.py) ... \u001b[?25ldone\n",
      "\u001b[?25hCollecting nltk>=3.5\n",
      "  Downloading nltk-3.7-py3-none-any.whl (1.5 MB)\n",
      "\u001b[2K     \u001b[90m━━━━━━━━━━━━━━━━━━━━━━━━━━━━━━━━━━━━━━━━\u001b[0m \u001b[32m1.5/1.5 MB\u001b[0m \u001b[31m73.9 MB/s\u001b[0m eta \u001b[36m0:00:00\u001b[0m\n",
      "\u001b[?25hCollecting kss\n",
      "  Downloading kss-3.4.2.tar.gz (42.4 MB)\n",
      "\u001b[2K     \u001b[90m━━━━━━━━━━━━━━━━━━━━━━━━━━━━━━━━━━━━━━━━\u001b[0m \u001b[32m42.4/42.4 MB\u001b[0m \u001b[31m37.0 MB/s\u001b[0m eta \u001b[36m0:00:00\u001b[0m00:01\u001b[0m00:01\u001b[0m\n",
      "\u001b[?25h  Preparing metadata (setup.py) ... \u001b[?25ldone\n",
      "\u001b[?25hRequirement already satisfied: pillow>=4.1.1 in /opt/conda/lib/python3.8/site-packages (from pororo) (9.1.0)\n",
      "Requirement already satisfied: lxml in /opt/conda/lib/python3.8/site-packages (from pororo) (4.8.0)\n",
      "Collecting torch==1.6.0\n",
      "  Downloading torch-1.6.0-cp38-cp38-manylinux1_x86_64.whl (748.8 MB)\n",
      "\u001b[2K     \u001b[90m━━━━━━━━━━━━━━━━━━━━━━━━━━━━━━━━━━━━━━━\u001b[0m \u001b[32m748.8/748.8 MB\u001b[0m \u001b[31m1.9 MB/s\u001b[0m eta \u001b[36m0:00:00\u001b[0m00:01\u001b[0m00:01\u001b[0m\n",
      "\u001b[?25hCollecting wget\n",
      "  Downloading wget-3.2.zip (10 kB)\n",
      "  Preparing metadata (setup.py) ... \u001b[?25ldone\n",
      "\u001b[?25hCollecting torchvision==0.7.0\n",
      "  Downloading torchvision-0.7.0-cp38-cp38-manylinux1_x86_64.whl (5.9 MB)\n",
      "\u001b[2K     \u001b[90m━━━━━━━━━━━━━━━━━━━━━━━━━━━━━━━━━━━━━━━━\u001b[0m \u001b[32m5.9/5.9 MB\u001b[0m \u001b[31m68.9 MB/s\u001b[0m eta \u001b[36m0:00:00\u001b[0m:00:01\u001b[0m00:01\u001b[0m\n",
      "\u001b[?25hRequirement already satisfied: transformers>=4.0.0 in /opt/conda/lib/python3.8/site-packages (from pororo) (4.5.0)\n",
      "Collecting fairseq>=0.10.2\n",
      "  Downloading fairseq-0.10.2-cp38-cp38-manylinux1_x86_64.whl (1.7 MB)\n",
      "\u001b[2K     \u001b[90m━━━━━━━━━━━━━━━━━━━━━━━━━━━━━━━━━━━━━━━━\u001b[0m \u001b[32m1.7/1.7 MB\u001b[0m \u001b[31m35.8 MB/s\u001b[0m eta \u001b[36m0:00:00\u001b[0m00:01\u001b[0m\n",
      "\u001b[?25hCollecting word2word\n",
      "  Downloading word2word-1.0.0-py3-none-any.whl (31 kB)\n",
      "Collecting future\n",
      "  Downloading future-0.18.2.tar.gz (829 kB)\n",
      "\u001b[2K     \u001b[90m━━━━━━━━━━━━━━━━━━━━━━━━━━━━━━━━━━━━━━\u001b[0m \u001b[32m829.2/829.2 kB\u001b[0m \u001b[31m70.7 MB/s\u001b[0m eta \u001b[36m0:00:00\u001b[0m\n",
      "\u001b[?25h  Preparing metadata (setup.py) ... \u001b[?25ldone\n",
      "\u001b[?25hRequirement already satisfied: numpy in /opt/conda/lib/python3.8/site-packages (from torch==1.6.0->pororo) (1.19.2)\n",
      "Collecting dataclasses\n",
      "  Downloading dataclasses-0.6-py3-none-any.whl (14 kB)\n",
      "Collecting hydra-core\n",
      "  Downloading hydra_core-1.2.0-py3-none-any.whl (151 kB)\n",
      "\u001b[2K     \u001b[90m━━━━━━━━━━━━━━━━━━━━━━━━━━━━━━━━━━━━━━\u001b[0m \u001b[32m151.1/151.1 kB\u001b[0m \u001b[31m22.4 MB/s\u001b[0m eta \u001b[36m0:00:00\u001b[0m\n",
      "\u001b[?25hCollecting sacrebleu>=1.4.12\n",
      "  Downloading sacrebleu-2.1.0-py3-none-any.whl (92 kB)\n",
      "\u001b[2K     \u001b[90m━━━━━━━━━━━━━━━━━━━━━━━━━━━━━━━━━━━━━━━━\u001b[0m \u001b[32m92.0/92.0 kB\u001b[0m \u001b[31m21.7 MB/s\u001b[0m eta \u001b[36m0:00:00\u001b[0m\n",
      "\u001b[?25hRequirement already satisfied: cffi in /opt/conda/lib/python3.8/site-packages (from fairseq>=0.10.2->pororo) (1.14.3)\n",
      "Requirement already satisfied: tqdm in /opt/conda/lib/python3.8/site-packages (from fairseq>=0.10.2->pororo) (4.41.1)\n",
      "Collecting cython\n",
      "  Downloading Cython-0.29.30-cp38-cp38-manylinux_2_17_x86_64.manylinux2014_x86_64.manylinux_2_24_x86_64.whl (1.9 MB)\n",
      "\u001b[2K     \u001b[90m━━━━━━━━━━━━━━━━━━━━━━━━━━━━━━━━━━━━━━━━\u001b[0m \u001b[32m1.9/1.9 MB\u001b[0m \u001b[31m82.7 MB/s\u001b[0m eta \u001b[36m0:00:00\u001b[0m\n",
      "\u001b[?25hRequirement already satisfied: regex in /opt/conda/lib/python3.8/site-packages (from fairseq>=0.10.2->pororo) (2022.4.24)\n",
      "Requirement already satisfied: click in /opt/conda/lib/python3.8/site-packages (from nltk>=3.5->pororo) (8.0.4)\n",
      "Collecting transformers>=4.0.0\n",
      "  Downloading transformers-4.19.2-py3-none-any.whl (4.2 MB)\n",
      "\u001b[2K     \u001b[90m━━━━━━━━━━━━━━━━━━━━━━━━━━━━━━━━━━━━━━━━\u001b[0m \u001b[32m4.2/4.2 MB\u001b[0m \u001b[31m85.0 MB/s\u001b[0m eta \u001b[36m0:00:00\u001b[0m:00:01\u001b[0m\n",
      "\u001b[?25hRequirement already satisfied: scikit-learn in /opt/conda/lib/python3.8/site-packages (from sentence-transformers>=0.4.1.2->pororo) (0.24.1)\n",
      "Requirement already satisfied: scipy in /opt/conda/lib/python3.8/site-packages (from sentence-transformers>=0.4.1.2->pororo) (1.8.0)\n",
      "Collecting sentencepiece\n",
      "  Downloading sentencepiece-0.1.96-cp38-cp38-manylinux_2_17_x86_64.manylinux2014_x86_64.whl (1.2 MB)\n",
      "\u001b[2K     \u001b[90m━━━━━━━━━━━━━━━━━━━━━━━━━━━━━━━━━━━━━━━━\u001b[0m \u001b[32m1.2/1.2 MB\u001b[0m \u001b[31m79.8 MB/s\u001b[0m eta \u001b[36m0:00:00\u001b[0m\n",
      "\u001b[?25hRequirement already satisfied: huggingface-hub in /opt/conda/lib/python3.8/site-packages (from sentence-transformers>=0.4.1.2->pororo) (0.0.19)\n",
      "Collecting huggingface-hub\n",
      "  Downloading huggingface_hub-0.6.0-py3-none-any.whl (84 kB)\n",
      "\u001b[2K     \u001b[90m━━━━━━━━━━━━━━━━━━━━━━━━━━━━━━━━━━━━━━━━\u001b[0m \u001b[32m84.4/84.4 kB\u001b[0m \u001b[31m19.6 MB/s\u001b[0m eta \u001b[36m0:00:00\u001b[0m\n",
      "\u001b[?25hCollecting tokenizers!=0.11.3,<0.13,>=0.11.1\n",
      "  Downloading tokenizers-0.12.1-cp38-cp38-manylinux_2_12_x86_64.manylinux2010_x86_64.whl (6.6 MB)\n",
      "\u001b[2K     \u001b[90m━━━━━━━━━━━━━━━━━━━━━━━━━━━━━━━━━━━━━━━━\u001b[0m \u001b[32m6.6/6.6 MB\u001b[0m \u001b[31m80.6 MB/s\u001b[0m eta \u001b[36m0:00:00\u001b[0m:00:01\u001b[0m00:01\u001b[0m\n",
      "\u001b[?25hRequirement already satisfied: pyyaml>=5.1 in /opt/conda/lib/python3.8/site-packages (from transformers>=4.0.0->pororo) (5.3.1)\n",
      "Requirement already satisfied: requests in /opt/conda/lib/python3.8/site-packages (from transformers>=4.0.0->pororo) (2.27.1)\n",
      "Requirement already satisfied: packaging>=20.0 in /opt/conda/lib/python3.8/site-packages (from transformers>=4.0.0->pororo) (21.3)\n",
      "Requirement already satisfied: filelock in /opt/conda/lib/python3.8/site-packages (from transformers>=4.0.0->pororo) (3.0.12)\n",
      "Collecting inflect>=0.3.1\n",
      "  Downloading inflect-5.6.0-py3-none-any.whl (33 kB)\n",
      "Collecting distance>=0.1.3\n",
      "  Downloading Distance-0.1.3.tar.gz (180 kB)\n",
      "\u001b[2K     \u001b[90m━━━━━━━━━━━━━━━━━━━━━━━━━━━━━━━━━━━━━━\u001b[0m \u001b[32m180.3/180.3 kB\u001b[0m \u001b[31m33.5 MB/s\u001b[0m eta \u001b[36m0:00:00\u001b[0m\n",
      "\u001b[?25h  Preparing metadata (setup.py) ... \u001b[?25ldone\n",
      "\u001b[?25hCollecting emoji\n",
      "  Downloading emoji-1.7.0.tar.gz (175 kB)\n",
      "\u001b[2K     \u001b[90m━━━━━━━━━━━━━━━━━━━━━━━━━━━━━━━━━━━━━━\u001b[0m \u001b[32m175.4/175.4 kB\u001b[0m \u001b[31m32.5 MB/s\u001b[0m eta \u001b[36m0:00:00\u001b[0m\n",
      "\u001b[?25h  Preparing metadata (setup.py) ... \u001b[?25ldone\n",
      "\u001b[?25hCollecting more_itertools\n",
      "  Downloading more_itertools-8.13.0-py3-none-any.whl (51 kB)\n",
      "\u001b[2K     \u001b[90m━━━━━━━━━━━━━━━━━━━━━━━━━━━━━━━━━━━━━━━━\u001b[0m \u001b[32m51.6/51.6 kB\u001b[0m \u001b[31m12.1 MB/s\u001b[0m eta \u001b[36m0:00:00\u001b[0m\n",
      "\u001b[?25hRequirement already satisfied: setuptools in /opt/conda/lib/python3.8/site-packages (from marisa-trie->pororo) (50.3.1.post20201107)\n",
      "Requirement already satisfied: typing-extensions>=3.7.4.3 in /opt/conda/lib/python3.8/site-packages (from huggingface-hub->sentence-transformers>=0.4.1.2->pororo) (4.2.0)\n",
      "Requirement already satisfied: pyparsing!=3.0.5,>=2.0.2 in /opt/conda/lib/python3.8/site-packages (from packaging>=20.0->transformers>=4.0.0->pororo) (3.0.8)\n",
      "Collecting tabulate>=0.8.9\n",
      "  Downloading tabulate-0.8.9-py3-none-any.whl (25 kB)\n",
      "Collecting portalocker\n",
      "  Downloading portalocker-2.4.0-py2.py3-none-any.whl (16 kB)\n",
      "Requirement already satisfied: colorama in /opt/conda/lib/python3.8/site-packages (from sacrebleu>=1.4.12->fairseq>=0.10.2->pororo) (0.4.4)\n",
      "Requirement already satisfied: pycparser in /opt/conda/lib/python3.8/site-packages (from cffi->fairseq>=0.10.2->pororo) (2.20)\n",
      "Collecting antlr4-python3-runtime==4.9.*\n",
      "  Downloading antlr4-python3-runtime-4.9.3.tar.gz (117 kB)\n",
      "\u001b[2K     \u001b[90m━━━━━━━━━━━━━━━━━━━━━━━━━━━━━━━━━━━━━━\u001b[0m \u001b[32m117.0/117.0 kB\u001b[0m \u001b[31m21.9 MB/s\u001b[0m eta \u001b[36m0:00:00\u001b[0m\n",
      "\u001b[?25h  Preparing metadata (setup.py) ... \u001b[?25ldone\n",
      "\u001b[?25hRequirement already satisfied: importlib-resources in /opt/conda/lib/python3.8/site-packages (from hydra-core->fairseq>=0.10.2->pororo) (5.7.1)\n",
      "Collecting omegaconf~=2.2\n",
      "  Downloading omegaconf-2.2.1-py3-none-any.whl (78 kB)\n",
      "\u001b[2K     \u001b[90m━━━━━━━━━━━━━━━━━━━━━━━━━━━━━━━━━━━━━━━━\u001b[0m \u001b[32m79.0/79.0 kB\u001b[0m \u001b[31m18.6 MB/s\u001b[0m eta \u001b[36m0:00:00\u001b[0m\n",
      "\u001b[?25hRequirement already satisfied: charset-normalizer~=2.0.0 in /opt/conda/lib/python3.8/site-packages (from requests->transformers>=4.0.0->pororo) (2.0.12)\n",
      "Requirement already satisfied: urllib3<1.27,>=1.21.1 in /opt/conda/lib/python3.8/site-packages (from requests->transformers>=4.0.0->pororo) (1.25.11)\n",
      "Requirement already satisfied: certifi>=2017.4.17 in /opt/conda/lib/python3.8/site-packages (from requests->transformers>=4.0.0->pororo) (2020.12.5)\n",
      "Requirement already satisfied: idna<4,>=2.5 in /opt/conda/lib/python3.8/site-packages (from requests->transformers>=4.0.0->pororo) (2.10)\n",
      "Requirement already satisfied: threadpoolctl>=2.0.0 in /opt/conda/lib/python3.8/site-packages (from scikit-learn->sentence-transformers>=0.4.1.2->pororo) (3.1.0)\n",
      "Requirement already satisfied: zipp>=3.1.0 in /opt/conda/lib/python3.8/site-packages (from importlib-resources->hydra-core->fairseq>=0.10.2->pororo) (3.8.0)\n",
      "Building wheels for collected packages: sentence-transformers, kss, wget, distance, emoji, future, antlr4-python3-runtime\n",
      "  Building wheel for sentence-transformers (setup.py) ... \u001b[?25ldone\n",
      "\u001b[?25h  Created wheel for sentence-transformers: filename=sentence_transformers-2.2.0-py3-none-any.whl size=120747 sha256=1fb58c2c28e8118f34f65bc3770a73c37756fd6e532e73246c464c7adcbd7946\n",
      "  Stored in directory: /opt/ml/.cache/pip/wheels/0c/b6/fb/2289a932c365293ad865fc1fe9d2db694d5584241c6d670874\n",
      "  Building wheel for kss (setup.py) ... \u001b[?25ldone\n",
      "\u001b[?25h  Created wheel for kss: filename=kss-3.4.2-py3-none-any.whl size=42448044 sha256=2fd2dd2a6c7b3db1ab3693f9362953a0d356a4f3a390854f7f5f17ace4022ee9\n",
      "  Stored in directory: /opt/ml/.cache/pip/wheels/1d/49/df/8fb836d0ddb52cf0beaea2edb3e8c7e074608b832a47023ffe\n",
      "  Building wheel for wget (setup.py) ... \u001b[?25ldone\n",
      "\u001b[?25h  Created wheel for wget: filename=wget-3.2-py3-none-any.whl size=9681 sha256=11454b69c0f04b068931c5693449d9b95372d3acae7dd7388cd251df2df0a15f\n",
      "  Stored in directory: /opt/ml/.cache/pip/wheels/bd/a8/c3/3cf2c14a1837a4e04bd98631724e81f33f462d86a1d895fae0\n",
      "  Building wheel for distance (setup.py) ... \u001b[?25ldone\n",
      "\u001b[?25h  Created wheel for distance: filename=Distance-0.1.3-py3-none-any.whl size=16261 sha256=b010f2f10535ab2163dfc4c394a7f5b8edab3540370824108773ac3399371e93\n",
      "  Stored in directory: /opt/ml/.cache/pip/wheels/fb/a8/64/6edcab63ec51512a87cacf9b3563c711ad6b7b05d61b704493\n",
      "  Building wheel for emoji (setup.py) ... \u001b[?25ldone\n",
      "\u001b[?25h  Created wheel for emoji: filename=emoji-1.7.0-py3-none-any.whl size=171029 sha256=972285d1d0ae389cafe5bd751cb55a817b35205657d24dca2cc145bb551bbda6\n",
      "  Stored in directory: /opt/ml/.cache/pip/wheels/5e/8c/80/c3646df8201ba6f5070297fe3779a4b70265d0bfd961c15302\n",
      "  Building wheel for future (setup.py) ... \u001b[?25ldone\n",
      "\u001b[?25h  Created wheel for future: filename=future-0.18.2-py3-none-any.whl size=491059 sha256=72ddaf1526bc1267e271fd2ae141e08f1ed22c73a604f1fd71c1db1b66b3a059\n",
      "  Stored in directory: /opt/ml/.cache/pip/wheels/8e/70/28/3d6ccd6e315f65f245da085482a2e1c7d14b90b30f239e2cf4\n",
      "  Building wheel for antlr4-python3-runtime (setup.py) ... \u001b[?25ldone\n",
      "\u001b[?25h  Created wheel for antlr4-python3-runtime: filename=antlr4_python3_runtime-4.9.3-py3-none-any.whl size=144574 sha256=5a1897d1c58796b5c4da8c455c66ef5e08d8c56fc56581f9fe33c0a89f48d3b5\n",
      "  Stored in directory: /opt/ml/.cache/pip/wheels/b1/a3/c2/6df046c09459b73cc9bb6c4401b0be6c47048baf9a1617c485\n",
      "Successfully built sentence-transformers kss wget distance emoji future antlr4-python3-runtime\n",
      "Installing collected packages: whoosh, wget, tokenizers, tabulate, sentencepiece, emoji, distance, dataclasses, antlr4-python3-runtime, portalocker, omegaconf, nltk, more_itertools, marisa-trie, inflect, future, cython, word2word, torch, sacrebleu, kss, hydra-core, huggingface-hub, g2p-en, transformers, torchvision, fairseq, sentence-transformers, pororo\n",
      "  Attempting uninstall: tokenizers\n",
      "    Found existing installation: tokenizers 0.10.3\n",
      "    Uninstalling tokenizers-0.10.3:\n",
      "      Successfully uninstalled tokenizers-0.10.3\n",
      "  Attempting uninstall: torch\n",
      "    Found existing installation: torch 1.10.0\n",
      "    Uninstalling torch-1.10.0:\n",
      "      Successfully uninstalled torch-1.10.0\n",
      "  Attempting uninstall: huggingface-hub\n",
      "    Found existing installation: huggingface-hub 0.0.19\n",
      "    Uninstalling huggingface-hub-0.0.19:\n",
      "      Successfully uninstalled huggingface-hub-0.0.19\n",
      "  Attempting uninstall: transformers\n",
      "    Found existing installation: transformers 4.5.0\n",
      "    Uninstalling transformers-4.5.0:\n",
      "      Successfully uninstalled transformers-4.5.0\n",
      "  Attempting uninstall: torchvision\n",
      "    Found existing installation: torchvision 0.8.2\n",
      "    Uninstalling torchvision-0.8.2:\n",
      "      Successfully uninstalled torchvision-0.8.2\n",
      "\u001b[31mERROR: pip's dependency resolver does not currently take into account all the packages that are installed. This behaviour is the source of the following dependency conflicts.\n",
      "datasets 1.5.0 requires huggingface-hub<0.1.0, but you have huggingface-hub 0.6.0 which is incompatible.\u001b[0m\u001b[31m\n",
      "\u001b[0mSuccessfully installed antlr4-python3-runtime-4.9.3 cython-0.29.30 dataclasses-0.6 distance-0.1.3 emoji-1.7.0 fairseq-0.10.2 future-0.18.2 g2p-en-2.1.0 huggingface-hub-0.6.0 hydra-core-1.2.0 inflect-5.6.0 kss-3.4.2 marisa-trie-0.7.7 more_itertools-8.13.0 nltk-3.7 omegaconf-2.2.1 pororo-0.4.2 portalocker-2.4.0 sacrebleu-2.1.0 sentence-transformers-2.2.0 sentencepiece-0.1.96 tabulate-0.8.9 tokenizers-0.12.1 torch-1.6.0 torchvision-0.7.0 transformers-4.19.2 wget-3.2 whoosh-2.7.4 word2word-1.0.0\n",
      "\u001b[33mWARNING: Running pip as the 'root' user can result in broken permissions and conflicting behaviour with the system package manager. It is recommended to use a virtual environment instead: https://pip.pypa.io/warnings/venv\u001b[0m\u001b[33m\n",
      "\u001b[0m\u001b[33mWARNING: There was an error checking the latest version of pip.\u001b[0m\u001b[33m\n",
      "\u001b[0m"
     ]
    }
   ],
   "source": [
    "!pip install pororo"
   ]
  },
  {
   "cell_type": "code",
   "execution_count": 2,
   "metadata": {},
   "outputs": [
    {
     "name": "stderr",
     "output_type": "stream",
     "text": [
      "\n",
      "[nltk_data] Downloading package punkt to /opt/ml/nltk_data...\n",
      "[nltk_data]   Unzipping tokenizers/punkt.zip.\n",
      "\n"
     ]
    }
   ],
   "source": [
    "from pororo import Pororo\n",
    "ner = Pororo(task=\"ner\", lang=\"ko\")"
   ]
  },
  {
   "cell_type": "code",
   "execution_count": 3,
   "metadata": {},
   "outputs": [
    {
     "name": "stderr",
     "output_type": "stream",
     "text": [
      "[Korean Sentence Splitter]: Initializing Pynori...\n"
     ]
    },
    {
     "data": {
      "text/plain": [
       "[('차투차', 'ARTIFACT'), (' ', 'O'), ('CHATOCH', 'ARTIFACT'), ('A', 'O')]"
      ]
     },
     "execution_count": 3,
     "metadata": {},
     "output_type": "execute_result"
    }
   ],
   "source": [
    "ner('차투차 CHATOCHA')\n"
   ]
  },
  {
   "cell_type": "code",
   "execution_count": 4,
   "metadata": {},
   "outputs": [
    {
     "data": {
      "text/plain": [
       "[('금융부분이사', 'CIVILIZATION'), (' ', 'O'), ('박원주', 'PERSON')]"
      ]
     },
     "execution_count": 4,
     "metadata": {},
     "output_type": "execute_result"
    }
   ],
   "source": [
    "ner('금융부분이사  박원주')\n"
   ]
  },
  {
   "cell_type": "code",
   "execution_count": 5,
   "metadata": {},
   "outputs": [
    {
     "data": {
      "text/plain": [
       "[('본사', 'O'),\n",
       " (' ', 'O'),\n",
       " ('경기도', 'LOCATION'),\n",
       " (' ', 'O'),\n",
       " ('수원시', 'CITY'),\n",
       " (' ', 'O'),\n",
       " ('권선구', 'LOCATION'),\n",
       " (' ', 'O'),\n",
       " ('세화로', 'ARTIFACT'),\n",
       " (' ', 'O'),\n",
       " ('44', 'QUANTITY'),\n",
       " (' ', 'O'),\n",
       " ('(', 'O'),\n",
       " ('평동', 'LOCATION'),\n",
       " (')', 'O')]"
      ]
     },
     "execution_count": 5,
     "metadata": {},
     "output_type": "execute_result"
    }
   ],
   "source": [
    "ner('본사 경기도 수원시 권선구 세화로 44 (평동)')"
   ]
  },
  {
   "cell_type": "code",
   "execution_count": 6,
   "metadata": {},
   "outputs": [
    {
     "data": {
      "text/plain": [
       "[('수원', 'CITY'),\n",
       " ('지점', 'O'),\n",
       " (' ', 'O'),\n",
       " ('경기도', 'LOCATION'),\n",
       " (' ', 'O'),\n",
       " ('수원시', 'CITY'),\n",
       " (' ', 'O'),\n",
       " ('권선구', 'LOCATION'),\n",
       " (' ', 'O'),\n",
       " ('권선로', 'ARTIFACT'),\n",
       " (' ', 'O'),\n",
       " ('308-5', 'QUANTITY'),\n",
       " (' ', 'O'),\n",
       " ('도이치월드', 'ARTIFACT'),\n",
       " (' ', 'O'),\n",
       " ('219호', 'QUANTITY')]"
      ]
     },
     "execution_count": 6,
     "metadata": {},
     "output_type": "execute_result"
    }
   ],
   "source": [
    "ner('수원지점 경기도 수원시 권선구 권선로 308-5 도이치월드 219호')"
   ]
  },
  {
   "cell_type": "code",
   "execution_count": 7,
   "metadata": {},
   "outputs": [
    {
     "data": {
      "text/plain": [
       "[('M 010 9121 5238', 'QUANTITY'),\n",
       " (' ', 'O'),\n",
       " ('T', 'O'),\n",
       " (' ', 'O'),\n",
       " ('1644 8333', 'QUANTITY')]"
      ]
     },
     "execution_count": 7,
     "metadata": {},
     "output_type": "execute_result"
    }
   ],
   "source": [
    "ner('M 010 9121 5238 T 1644 8333')"
   ]
  },
  {
   "cell_type": "code",
   "execution_count": 8,
   "metadata": {},
   "outputs": [
    {
     "data": {
      "text/plain": [
       "[('E', 'TERM'),\n",
       " (' ', 'O'),\n",
       " ('wjp3020@gmail', 'TERM'),\n",
       " ('.co', 'TERM'),\n",
       " ('m', 'O'),\n",
       " (' ', 'O'),\n",
       " ('F 031 224 4587', 'QUANTITY')]"
      ]
     },
     "execution_count": 8,
     "metadata": {},
     "output_type": "execute_result"
    }
   ],
   "source": [
    "ner('E wjp3020@gmail.com F 031 224 4587')"
   ]
  },
  {
   "cell_type": "code",
   "execution_count": 9,
   "metadata": {},
   "outputs": [
    {
     "data": {
      "text/plain": [
       "[('차투차', 'ORGANIZATION'),\n",
       " (' ', 'O'),\n",
       " ('CHATOCHA', 'ORGANIZATION'),\n",
       " (' ', 'O'),\n",
       " ('금융부분이사', 'CIVILIZATION'),\n",
       " (' ', 'O'),\n",
       " ('본사', 'O'),\n",
       " (' ', 'O'),\n",
       " ('경기도', 'LOCATION'),\n",
       " (' ', 'O'),\n",
       " ('수원시', 'CITY'),\n",
       " (' ', 'O'),\n",
       " ('권선구', 'LOCATION'),\n",
       " (' ', 'O'),\n",
       " ('세화로', 'ARTIFACT'),\n",
       " (' ', 'O'),\n",
       " ('44', 'QUANTITY'),\n",
       " (' ', 'O'),\n",
       " ('(', 'O'),\n",
       " ('평동', 'LOCATION'),\n",
       " (')', 'O'),\n",
       " (' ', 'O'),\n",
       " ('박원주', 'PERSON'),\n",
       " (' ', 'O'),\n",
       " ('수원', 'CITY'),\n",
       " ('지점', 'O'),\n",
       " (' ', 'O'),\n",
       " ('경기도', 'LOCATION'),\n",
       " (' ', 'O'),\n",
       " ('수원시', 'CITY'),\n",
       " (' ', 'O'),\n",
       " ('권선구', 'LOCATION'),\n",
       " (' ', 'O'),\n",
       " ('권선로', 'ARTIFACT'),\n",
       " (' ', 'O'),\n",
       " ('308-5', 'QUANTITY'),\n",
       " (' ', 'O'),\n",
       " ('도이치월드', 'ARTIFACT'),\n",
       " (' ', 'O'),\n",
       " ('219호', 'QUANTITY'),\n",
       " (' ', 'O'),\n",
       " ('M 010 9121 5238', 'QUANTITY'),\n",
       " (' ', 'O'),\n",
       " ('T 1644 8333', 'QUANTITY'),\n",
       " (' ', 'O'),\n",
       " ('E', 'QUANTITY'),\n",
       " (' ', 'O'),\n",
       " ('wjp3020', 'TERM'),\n",
       " ('@gmail', 'TERM'),\n",
       " ('.com', 'TERM'),\n",
       " (' ', 'O'),\n",
       " ('F 031 224 4587', 'QUANTITY')]"
      ]
     },
     "execution_count": 9,
     "metadata": {},
     "output_type": "execute_result"
    }
   ],
   "source": [
    "ner('차투차 CHATOCHA 금융부분이사 본사 경기도 수원시 권선구 세화로 44 (평동) 박원주 수원지점 경기도 수원시 권선구 권선로 308-5 도이치월드 219호 M 010 9121 5238 T 1644 8333 E wjp3020@gmail.com F 031 224 4587')"
   ]
  },
  {
   "cell_type": "code",
   "execution_count": 10,
   "metadata": {},
   "outputs": [
    {
     "data": {
      "text/plain": [
       "[('차투차', 'ORGANIZATION'),\n",
       " (' ', 'O'),\n",
       " ('CHATOCHA', 'ORGANIZATION'),\n",
       " (' ', 'O'),\n",
       " ('금융부분이사', 'CIVILIZATION'),\n",
       " (' ', 'O'),\n",
       " ('박원주', 'PERSON'),\n",
       " (' ', 'O'),\n",
       " ('본사', 'O'),\n",
       " (' ', 'O'),\n",
       " ('경기도', 'LOCATION'),\n",
       " (' ', 'O'),\n",
       " ('수원시', 'CITY'),\n",
       " (' ', 'O'),\n",
       " ('권선구', 'LOCATION'),\n",
       " (' ', 'O'),\n",
       " ('세화로', 'ARTIFACT'),\n",
       " (' ', 'O'),\n",
       " ('44', 'QUANTITY'),\n",
       " (' ', 'O'),\n",
       " ('(', 'O'),\n",
       " ('평동', 'LOCATION'),\n",
       " (')', 'O'),\n",
       " (' ', 'O'),\n",
       " ('수원', 'CITY'),\n",
       " ('지점', 'O'),\n",
       " (' ', 'O'),\n",
       " ('경기도', 'LOCATION'),\n",
       " (' ', 'O'),\n",
       " ('수원시', 'CITY'),\n",
       " (' ', 'O'),\n",
       " ('권선구', 'LOCATION'),\n",
       " (' ', 'O'),\n",
       " ('권선로', 'ARTIFACT'),\n",
       " (' ', 'O'),\n",
       " ('308-5', 'QUANTITY'),\n",
       " (' ', 'O'),\n",
       " ('도이치월드', 'ARTIFACT'),\n",
       " (' ', 'O'),\n",
       " ('219호', 'QUANTITY'),\n",
       " (' ', 'O'),\n",
       " ('M 010 9121 5238', 'QUANTITY'),\n",
       " (' ', 'O'),\n",
       " ('T 1644 8333', 'QUANTITY'),\n",
       " (' ', 'O'),\n",
       " ('E', 'QUANTITY'),\n",
       " (' ', 'O'),\n",
       " ('wjp3020', 'TERM'),\n",
       " ('@gmail', 'TERM'),\n",
       " ('.com', 'TERM'),\n",
       " (' ', 'O'),\n",
       " ('F 031 224 4587', 'QUANTITY')]"
      ]
     },
     "execution_count": 10,
     "metadata": {},
     "output_type": "execute_result"
    }
   ],
   "source": [
    "ner('차투차 CHATOCHA 금융부분이사 박원주 본사 경기도 수원시 권선구 세화로 44 (평동) 수원지점 경기도 수원시 권선구 권선로 308-5 도이치월드 219호 M 010 9121 5238 T 1644 8333 E wjp3020@gmail.com F 031 224 4587')"
   ]
  },
  {
   "cell_type": "code",
   "execution_count": null,
   "metadata": {},
   "outputs": [],
   "source": []
  }
 ],
 "metadata": {
  "interpreter": {
   "hash": "d4d1e4263499bec80672ea0156c357c1ee493ec2b1c70f0acce89fc37c4a6abe"
  },
  "kernelspec": {
   "display_name": "Python 3.8.5 ('base')",
   "language": "python",
   "name": "python3"
  },
  "language_info": {
   "codemirror_mode": {
    "name": "ipython",
    "version": 3
   },
   "file_extension": ".py",
   "mimetype": "text/x-python",
   "name": "python",
   "nbconvert_exporter": "python",
   "pygments_lexer": "ipython3",
   "version": "3.8.5"
  },
  "orig_nbformat": 4
 },
 "nbformat": 4,
 "nbformat_minor": 2
}
