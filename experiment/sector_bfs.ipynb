{
 "cells": [
  {
   "cell_type": "code",
   "execution_count": 186,
   "id": "716ed7a3",
   "metadata": {},
   "outputs": [],
   "source": [
    "import pandas as pd\n",
    "import json\n",
    "from collections import deque\n",
    "import matplotlib.pyplot as plt"
   ]
  },
  {
   "cell_type": "code",
   "execution_count": 187,
   "id": "f33ab3ba-b10f-4474-a836-0e12e79b4a90",
   "metadata": {},
   "outputs": [],
   "source": [
    "with open('/opt/ml/final/output/vflat_image_1.json') as f:\n",
    "    json_data = json.load(f)"
   ]
  },
  {
   "cell_type": "markdown",
   "id": "00bd2e4b-b9f3-443a-9950-751efb79a445",
   "metadata": {},
   "source": [
    "<h3>좌표에 w를 곱해서 겹치게 하기때문에 적절한 w값을 찾아야함"
   ]
  },
  {
   "cell_type": "code",
   "execution_count": 196,
   "id": "1aa4cc15-8a96-42d5-be4c-e955e20cf27d",
   "metadata": {},
   "outputs": [],
   "source": [
    "word_list = json_data['ocr']['word']\n",
    "text_list = []\n",
    "box_list = []\n",
    "avg_x_list = []\n",
    "avg_y_list = []\n",
    "\n",
    "for word in word_list:\n",
    "    point_list = []  \n",
    "    w = 0.09 # 수정해야하는 값\n",
    "    w1 = 1 + w\n",
    "    w2 = 1 - w\n",
    "    x_w = [w2,w1,w2,w1]\n",
    "    y_w = [w2,w2,w1,w1]\n",
    "    sum_x = 0\n",
    "    sum_y = 0\n",
    "    \n",
    "    for idx, point in enumerate(word['points']):\n",
    "        sum_x += point[0]\n",
    "        sum_y += point[1]\n",
    "        point_list.append((point[0] * x_w[idx], point[1] * y_w[idx]))\n",
    "        \n",
    "    box_list.append(point_list)\n",
    "    text_list.append(word['text'])\n",
    "    avg_x_list.append(sum_x/4)\n",
    "    avg_y_list.append(sum_y/4)"
   ]
  },
  {
   "cell_type": "code",
   "execution_count": 189,
   "id": "81133cbb-025e-447f-ab43-f029c69358ce",
   "metadata": {},
   "outputs": [],
   "source": [
    "def isCross(origin,target):\n",
    "    x_list = []\n",
    "    y_list = []\n",
    "    for x, y in origin:\n",
    "        x_list.append(x)\n",
    "        y_list.append(y)\n",
    "    max_x = max(x_list)\n",
    "    min_x = min(x_list)\n",
    "    max_y = max(y_list)\n",
    "    min_y = min(y_list)\n",
    "    \n",
    "    for x, y in target:\n",
    "        if min_x<=x and x<=max_x and min_y<=y and y<=max_y:\n",
    "            return True;"
   ]
  },
  {
   "cell_type": "code",
   "execution_count": 190,
   "id": "3d9b6363-36b3-487c-abfc-54afd3c01256",
   "metadata": {},
   "outputs": [],
   "source": [
    "graph = [[] for _ in range(len(box_list))]\n",
    "\n",
    "for i, origin in enumerate(box_list):\n",
    "    for j, target in enumerate(box_list):\n",
    "        if i >= j :\n",
    "            continue\n",
    "        if isCross(origin,target):\n",
    "            graph[i].append(j)\n",
    "            graph[j].append(i)\n",
    "        "
   ]
  },
  {
   "cell_type": "code",
   "execution_count": 191,
   "id": "1c8ce296-ccb1-439c-a998-2c1733d0125d",
   "metadata": {},
   "outputs": [
    {
     "name": "stdout",
     "output_type": "stream",
     "text": [
      "[[3], [2], [1], [0], [5, 6], [4], [4, 8], [8], [6, 7], [10, 11, 15], [9, 11], [9, 10, 14], [13, 16, 17], [12, 16, 17], [11, 15, 16], [9, 14], [12, 13, 14, 17], [12, 13, 16], [31, 40, 56, 57, 58], [20], [19, 22, 23, 26, 29, 30, 34, 48], [22, 23, 24, 25, 32, 33, 34, 38, 48, 49], [20, 21, 23, 26, 29, 30, 34, 47, 49], [20, 21, 22, 24, 26, 30, 32, 34, 47, 48, 49], [21, 23, 25, 27, 29, 32, 33, 38, 49], [21, 24, 27, 29, 32, 33, 38, 47], [20, 22, 23, 29, 30, 34, 48], [24, 25, 29, 32, 38, 47], [35, 36, 37, 39, 41, 42, 43, 44, 45, 46, 50, 51, 52, 53, 54, 55], [20, 22, 24, 25, 26, 27, 30, 32, 33, 34, 38, 47, 48, 49, 62, 63, 64, 65, 66, 67, 68], [20, 22, 23, 26, 29, 34, 47, 48, 49, 61, 62, 63, 64, 65, 67], [18, 40, 57, 58], [21, 23, 24, 25, 27, 29, 33, 38, 65, 66, 68], [21, 24, 25, 29, 32, 38, 47, 65, 66, 68], [20, 21, 22, 23, 26, 29, 30, 47, 49, 62, 63, 64, 65, 67], [28, 36, 37, 39, 41, 42, 43, 44, 50, 51, 52, 53], [28, 35, 37, 41, 42, 43, 44, 45, 46, 53, 54], [28, 35, 36, 41, 42, 43, 44, 45, 46, 50, 53, 54, 55], [21, 24, 25, 27, 29, 32, 33, 65, 66], [28, 35, 43, 51, 52, 53], [18, 31, 56, 57, 58, 70], [28, 35, 36, 37, 42, 43, 44, 50, 51, 52, 53, 69], [28, 35, 36, 37, 41, 43, 44, 45, 52, 53, 54], [28, 35, 36, 37, 39, 41, 42, 44, 50, 51, 52, 53], [28, 35, 36, 37, 41, 42, 43, 45, 46, 53, 54, 55], [28, 36, 37, 42, 44, 46, 50, 54, 55], [28, 36, 37, 44, 45, 50, 54, 55], [22, 23, 25, 27, 29, 30, 33, 34, 48, 49, 63, 64, 65, 66, 68, 72, 73, 74, 75, 76, 77, 78, 80], [20, 21, 23, 26, 29, 30, 47, 49, 61, 62, 63, 64, 65, 66, 67, 71, 72, 73, 74, 75, 79], [21, 22, 23, 24, 29, 30, 34, 47, 48, 63, 65, 66, 72, 73, 74, 75, 78], [28, 35, 37, 41, 43, 45, 46, 52, 53, 54, 55], [28, 35, 39, 41, 43, 52, 53, 69], [28, 35, 39, 41, 42, 43, 50, 51, 53], [28, 35, 36, 37, 39, 41, 42, 43, 44, 50, 51, 52], [28, 36, 37, 42, 44, 45, 46, 50, 55], [28, 37, 44, 45, 46, 50, 54], [18, 40, 57, 58, 69, 70], [18, 31, 40, 56, 58, 70], [18, 31, 40, 56, 57], [60, 61, 62, 67, 79], [59, 61, 71], [30, 48, 59, 60, 62, 63, 67, 72, 79, 81], [29, 30, 34, 48, 59, 61, 63, 64, 67, 71, 72, 73, 79, 81], [29, 30, 34, 47, 48, 49, 61, 62, 64, 65, 67, 71, 72, 73, 74, 79, 82, 83], [29, 30, 34, 47, 48, 62, 63, 65, 66, 67, 71, 72, 73, 74, 75, 78, 79, 81, 82, 83], [29, 30, 32, 33, 34, 38, 47, 48, 49, 63, 64, 66, 68, 72, 73, 74, 75, 76, 77, 78, 81, 83], [29, 32, 33, 38, 47, 48, 49, 64, 65, 68, 73, 74, 75, 76, 77, 78, 81, 83], [29, 30, 34, 48, 59, 61, 62, 63, 64, 71, 72, 73, 79, 81], [29, 32, 33, 47, 65, 66, 74, 75, 76, 77, 78, 80, 82], [41, 51, 56, 85, 88, 89], [40, 56, 57, 84, 85, 86, 87], [48, 60, 62, 63, 64, 67, 72, 73, 79, 81], [47, 48, 49, 61, 62, 63, 64, 65, 67, 71, 73, 74, 79, 82, 83], [47, 48, 49, 62, 63, 64, 65, 66, 67, 71, 72, 74, 75, 78, 79, 81, 82, 83], [47, 48, 49, 63, 64, 65, 66, 68, 72, 73, 75, 76, 78, 81, 82, 83], [47, 48, 49, 64, 65, 66, 68, 73, 74, 76, 77, 78, 81, 83], [47, 65, 66, 68, 74, 75, 77, 78, 80, 82], [47, 65, 66, 68, 75, 76, 78, 80, 82], [47, 49, 64, 65, 66, 68, 73, 74, 75, 76, 77, 83], [48, 59, 61, 62, 63, 64, 67, 71, 72, 73, 81], [47, 68, 76, 77, 82], [61, 62, 64, 65, 66, 67, 71, 73, 74, 75, 79, 82, 83], [63, 64, 68, 72, 73, 74, 76, 77, 80, 81, 83], [63, 64, 65, 66, 72, 73, 74, 75, 78, 81, 82], [70, 85, 86, 87], [69, 70, 84, 86, 88], [70, 84, 85, 87], [70, 84, 86], [69, 85, 89], [69, 88]]\n"
     ]
    }
   ],
   "source": [
    "print(graph)"
   ]
  },
  {
   "cell_type": "code",
   "execution_count": 192,
   "id": "e64cc6a0-d7a0-4d38-9e88-5c7951031293",
   "metadata": {},
   "outputs": [],
   "source": [
    "sector_list = [-1 for _ in range(len(box_list))]\n",
    "sector_idx = 0\n",
    "\n",
    "for i in range(len(graph)):\n",
    "    if sector_list[i] == -1:\n",
    "        que = deque()\n",
    "        que.append(i)\n",
    "        sector_list[i] = sector_idx\n",
    "        \n",
    "        while que:\n",
    "            now = que.pop()\n",
    "            # print(now,que)\n",
    "            # print(bool(que))\n",
    "            for next in graph[now]:\n",
    "                if sector_list[next] == -1:\n",
    "                    sector_list[next] = sector_idx\n",
    "                    que.append(next)\n",
    "        \n",
    "        sector_idx += 1"
   ]
  },
  {
   "cell_type": "code",
   "execution_count": 193,
   "id": "94872263-8b91-46a3-b6dd-9efb7a7c3d63",
   "metadata": {},
   "outputs": [
    {
     "name": "stdout",
     "output_type": "stream",
     "text": [
      "[0, 1, 1, 0, 2, 2, 2, 2, 2, 3, 3, 3, 3, 3, 3, 3, 3, 3, 4, 5, 5, 5, 5, 5, 5, 5, 5, 5, 4, 5, 5, 4, 5, 5, 5, 4, 4, 4, 5, 4, 4, 4, 4, 4, 4, 4, 4, 5, 5, 5, 4, 4, 4, 4, 4, 4, 4, 4, 4, 5, 5, 5, 5, 5, 5, 5, 5, 5, 5, 4, 4, 5, 5, 5, 5, 5, 5, 5, 5, 5, 5, 5, 5, 5, 4, 4, 4, 4, 4, 4]\n"
     ]
    }
   ],
   "source": [
    "print(sector_list)"
   ]
  },
  {
   "cell_type": "code",
   "execution_count": 194,
   "id": "91a48920-f7b1-45b8-95f4-d61c8563e826",
   "metadata": {},
   "outputs": [
    {
     "data": {
      "text/html": [
       "<div>\n",
       "<style scoped>\n",
       "    .dataframe tbody tr th:only-of-type {\n",
       "        vertical-align: middle;\n",
       "    }\n",
       "\n",
       "    .dataframe tbody tr th {\n",
       "        vertical-align: top;\n",
       "    }\n",
       "\n",
       "    .dataframe thead th {\n",
       "        text-align: right;\n",
       "    }\n",
       "</style>\n",
       "<table border=\"1\" class=\"dataframe\">\n",
       "  <thead>\n",
       "    <tr style=\"text-align: right;\">\n",
       "      <th></th>\n",
       "      <th>text</th>\n",
       "      <th>x</th>\n",
       "      <th>y</th>\n",
       "      <th>cluster</th>\n",
       "    </tr>\n",
       "  </thead>\n",
       "  <tbody>\n",
       "    <tr>\n",
       "      <th>0</th>\n",
       "      <td>계명산업</td>\n",
       "      <td>1501.50</td>\n",
       "      <td>396.00</td>\n",
       "      <td>0</td>\n",
       "    </tr>\n",
       "    <tr>\n",
       "      <th>1</th>\n",
       "      <td>KEM</td>\n",
       "      <td>578.50</td>\n",
       "      <td>382.00</td>\n",
       "      <td>1</td>\n",
       "    </tr>\n",
       "    <tr>\n",
       "      <th>2</th>\n",
       "      <td>|&gt;</td>\n",
       "      <td>784.00</td>\n",
       "      <td>385.00</td>\n",
       "      <td>1</td>\n",
       "    </tr>\n",
       "    <tr>\n",
       "      <th>3</th>\n",
       "      <td>주식회사</td>\n",
       "      <td>2467.50</td>\n",
       "      <td>423.00</td>\n",
       "      <td>0</td>\n",
       "    </tr>\n",
       "    <tr>\n",
       "      <th>4</th>\n",
       "      <td>kemico.</td>\n",
       "      <td>658.25</td>\n",
       "      <td>665.50</td>\n",
       "      <td>2</td>\n",
       "    </tr>\n",
       "    <tr>\n",
       "      <th>...</th>\n",
       "      <td>...</td>\n",
       "      <td>...</td>\n",
       "      <td>...</td>\n",
       "      <td>...</td>\n",
       "    </tr>\n",
       "    <tr>\n",
       "      <th>85</th>\n",
       "      <td>14001</td>\n",
       "      <td>552.00</td>\n",
       "      <td>2018.00</td>\n",
       "      <td>4</td>\n",
       "    </tr>\n",
       "    <tr>\n",
       "      <th>86</th>\n",
       "      <td>|</td>\n",
       "      <td>671.00</td>\n",
       "      <td>2017.25</td>\n",
       "      <td>4</td>\n",
       "    </tr>\n",
       "    <tr>\n",
       "      <th>87</th>\n",
       "      <td>14001</td>\n",
       "      <td>895.00</td>\n",
       "      <td>2018.00</td>\n",
       "      <td>4</td>\n",
       "    </tr>\n",
       "    <tr>\n",
       "      <th>88</th>\n",
       "      <td>IISO</td>\n",
       "      <td>384.00</td>\n",
       "      <td>2020.00</td>\n",
       "      <td>4</td>\n",
       "    </tr>\n",
       "    <tr>\n",
       "      <th>89</th>\n",
       "      <td>KS</td>\n",
       "      <td>275.00</td>\n",
       "      <td>2020.00</td>\n",
       "      <td>4</td>\n",
       "    </tr>\n",
       "  </tbody>\n",
       "</table>\n",
       "<p>90 rows × 4 columns</p>\n",
       "</div>"
      ],
      "text/plain": [
       "       text        x        y  cluster\n",
       "0      계명산업  1501.50   396.00        0\n",
       "1       KEM   578.50   382.00        1\n",
       "2        |>   784.00   385.00        1\n",
       "3      주식회사  2467.50   423.00        0\n",
       "4   kemico.   658.25   665.50        2\n",
       "..      ...      ...      ...      ...\n",
       "85    14001   552.00  2018.00        4\n",
       "86        |   671.00  2017.25        4\n",
       "87    14001   895.00  2018.00        4\n",
       "88     IISO   384.00  2020.00        4\n",
       "89       KS   275.00  2020.00        4\n",
       "\n",
       "[90 rows x 4 columns]"
      ]
     },
     "execution_count": 194,
     "metadata": {},
     "output_type": "execute_result"
    }
   ],
   "source": [
    "bc_df = pd.DataFrame({'text':text_list,'x':avg_x_list,'y':avg_y_list,'cluster':sector_list})\n",
    "bc_df"
   ]
  },
  {
   "cell_type": "code",
   "execution_count": 195,
   "id": "5611d415-b6b8-427a-8047-4b5a5cf4aefc",
   "metadata": {},
   "outputs": [
    {
     "data": {
      "image/png": "[encoded data removed]",
      "text/plain": [
       "<Figure size 576x576 with 1 Axes>"
      ]
     },
     "metadata": {
      "needs_background": "light"
     },
     "output_type": "display_data"
    }
   ],
   "source": [
    "plt.figure(figsize = (8, 8))\n",
    "\n",
    "for i in range(sector_idx):\n",
    "    plt.scatter(bc_df.loc[bc_df['cluster'] == i, 'x'], bc_df.loc[bc_df['cluster'] == i, 'y'], \n",
    "                label = 'cluster ' + str(i))\n",
    "\n",
    "plt.legend()\n",
    "plt.xlabel('x', size = 12)\n",
    "plt.ylabel('y', size = 12)\n",
    "plt.gca().invert_yaxis()\n",
    "plt.show()"
   ]
  },
  {
   "cell_type": "code",
   "execution_count": null,
   "id": "c3318aab-8a0f-4bbe-b91b-deaafa1e5653",
   "metadata": {},
   "outputs": [],
   "source": []
  }
 ],
 "metadata": {
  "kernelspec": {
   "display_name": "Python 3 (ipykernel)",
   "language": "python",
   "name": "python3"
  },
  "language_info": {
   "codemirror_mode": {
    "name": "ipython",
    "version": 3
   },
   "file_extension": ".py",
   "mimetype": "text/x-python",
   "name": "python",
   "nbconvert_exporter": "python",
   "pygments_lexer": "ipython3",
   "version": "3.8.5"
  }
 },
 "nbformat": 4,
 "nbformat_minor": 5
}
