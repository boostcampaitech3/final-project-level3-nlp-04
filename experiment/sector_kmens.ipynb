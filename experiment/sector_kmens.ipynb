{
 "cells": [
  {
   "cell_type": "code",
   "execution_count": 101,
   "id": "6503dd07-e5e3-4881-ae8f-c9183346c6f8",
   "metadata": {},
   "outputs": [],
   "source": [
    "import pandas as pd\n",
    "import json\n",
    "import matplotlib.pyplot as plt\n",
    "from sklearn.cluster import KMeans\n",
    "from sklearn.preprocessing import StandardScaler\n",
    "from yellowbrick.cluster import KElbowVisualizer"
   ]
  },
  {
   "cell_type": "code",
   "execution_count": 102,
   "id": "ab2c6fce-31bb-4ae5-811c-a0fa1c510a50",
   "metadata": {},
   "outputs": [],
   "source": [
    "with open('/opt/ml/final/output/vflat_image_1.json') as f:\n",
    "    json_data = json.load(f)"
   ]
  },
  {
   "cell_type": "code",
   "execution_count": 103,
   "id": "72fb1c4f-ee44-41db-b0bb-4d279f9d72b8",
   "metadata": {},
   "outputs": [],
   "source": [
    "word_list = json_data['ocr']['word']"
   ]
  },
  {
   "cell_type": "code",
   "execution_count": 104,
   "id": "da3da105-a29b-4636-8997-0d46d1c67f6c",
   "metadata": {},
   "outputs": [],
   "source": [
    "text_list = []\n",
    "x_list = []\n",
    "y_list = []\n",
    "\n",
    "for word in word_list:\n",
    "    sum_x,sum_y = 0.0,0.0\n",
    "    for idx, point in enumerate(word['points']):\n",
    "        sum_x += point[0]\n",
    "        sum_y += point[1]\n",
    "    avg_x = sum_x/4\n",
    "    avg_y = sum_y/4\n",
    "    text_list.append(word['text'])\n",
    "    x_list.append(avg_x)\n",
    "    y_list.append(avg_y)"
   ]
  },
  {
   "cell_type": "code",
   "execution_count": 105,
   "id": "0f0a48a7-7248-4c53-92e0-2ace66866998",
   "metadata": {},
   "outputs": [
    {
     "data": {
      "text/html": [
       "<div>\n",
       "<style scoped>\n",
       "    .dataframe tbody tr th:only-of-type {\n",
       "        vertical-align: middle;\n",
       "    }\n",
       "\n",
       "    .dataframe tbody tr th {\n",
       "        vertical-align: top;\n",
       "    }\n",
       "\n",
       "    .dataframe thead th {\n",
       "        text-align: right;\n",
       "    }\n",
       "</style>\n",
       "<table border=\"1\" class=\"dataframe\">\n",
       "  <thead>\n",
       "    <tr style=\"text-align: right;\">\n",
       "      <th></th>\n",
       "      <th>text</th>\n",
       "      <th>x</th>\n",
       "      <th>y</th>\n",
       "    </tr>\n",
       "  </thead>\n",
       "  <tbody>\n",
       "    <tr>\n",
       "      <th>0</th>\n",
       "      <td>계명산업</td>\n",
       "      <td>1501.50</td>\n",
       "      <td>396.00</td>\n",
       "    </tr>\n",
       "    <tr>\n",
       "      <th>1</th>\n",
       "      <td>KEM</td>\n",
       "      <td>578.50</td>\n",
       "      <td>382.00</td>\n",
       "    </tr>\n",
       "    <tr>\n",
       "      <th>2</th>\n",
       "      <td>|&gt;</td>\n",
       "      <td>784.00</td>\n",
       "      <td>385.00</td>\n",
       "    </tr>\n",
       "    <tr>\n",
       "      <th>3</th>\n",
       "      <td>주식회사</td>\n",
       "      <td>2467.50</td>\n",
       "      <td>423.00</td>\n",
       "    </tr>\n",
       "    <tr>\n",
       "      <th>4</th>\n",
       "      <td>kemico.</td>\n",
       "      <td>658.25</td>\n",
       "      <td>665.50</td>\n",
       "    </tr>\n",
       "    <tr>\n",
       "      <th>...</th>\n",
       "      <td>...</td>\n",
       "      <td>...</td>\n",
       "      <td>...</td>\n",
       "    </tr>\n",
       "    <tr>\n",
       "      <th>85</th>\n",
       "      <td>14001</td>\n",
       "      <td>552.00</td>\n",
       "      <td>2018.00</td>\n",
       "    </tr>\n",
       "    <tr>\n",
       "      <th>86</th>\n",
       "      <td>|</td>\n",
       "      <td>671.00</td>\n",
       "      <td>2017.25</td>\n",
       "    </tr>\n",
       "    <tr>\n",
       "      <th>87</th>\n",
       "      <td>14001</td>\n",
       "      <td>895.00</td>\n",
       "      <td>2018.00</td>\n",
       "    </tr>\n",
       "    <tr>\n",
       "      <th>88</th>\n",
       "      <td>IISO</td>\n",
       "      <td>384.00</td>\n",
       "      <td>2020.00</td>\n",
       "    </tr>\n",
       "    <tr>\n",
       "      <th>89</th>\n",
       "      <td>KS</td>\n",
       "      <td>275.00</td>\n",
       "      <td>2020.00</td>\n",
       "    </tr>\n",
       "  </tbody>\n",
       "</table>\n",
       "<p>90 rows × 3 columns</p>\n",
       "</div>"
      ],
      "text/plain": [
       "       text        x        y\n",
       "0      계명산업  1501.50   396.00\n",
       "1       KEM   578.50   382.00\n",
       "2        |>   784.00   385.00\n",
       "3      주식회사  2467.50   423.00\n",
       "4   kemico.   658.25   665.50\n",
       "..      ...      ...      ...\n",
       "85    14001   552.00  2018.00\n",
       "86        |   671.00  2017.25\n",
       "87    14001   895.00  2018.00\n",
       "88     IISO   384.00  2020.00\n",
       "89       KS   275.00  2020.00\n",
       "\n",
       "[90 rows x 3 columns]"
      ]
     },
     "execution_count": 105,
     "metadata": {},
     "output_type": "execute_result"
    }
   ],
   "source": [
    "bc_df = pd.DataFrame({'text':text_list,'x':x_list,'y':y_list})\n",
    "bc_df"
   ]
  },
  {
   "cell_type": "code",
   "execution_count": 106,
   "id": "6f37f3ba-3038-4c83-a1fe-e9358bd072a9",
   "metadata": {
    "tags": []
   },
   "outputs": [],
   "source": [
    "# 두 가지 feature를 대상\n",
    "data = bc_df[['x', 'y']]\n",
    "\n",
    "# 정규화 진행\n",
    "scaler = StandardScaler()\n",
    "data_scale = scaler.fit_transform(data)"
   ]
  },
  {
   "cell_type": "markdown",
   "id": "a1a549e5-b8cb-472a-a290-390b515a0409",
   "metadata": {},
   "source": [
    "<h3> 적절한 k 값을 찾아야 함"
   ]
  },
  {
   "cell_type": "code",
   "execution_count": 113,
   "id": "51e26550-183c-4627-a297-76d9be94b100",
   "metadata": {},
   "outputs": [],
   "source": [
    "k = 3 # 수정해야하는 값\n",
    "\n",
    "model = KMeans(n_clusters = k)\n",
    "\n",
    "# 정규화된 데이터에 학습\n",
    "model.fit(data_scale)\n",
    "\n",
    "# 클러스터링 결과 각 데이터가 몇 번째 그룹에 속하는지 저장\n",
    "bc_df['cluster'] = model.fit_predict(data_scale)"
   ]
  },
  {
   "cell_type": "code",
   "execution_count": 108,
   "id": "db679629-54a6-4325-aa4f-26f8efea13c6",
   "metadata": {},
   "outputs": [
    {
     "data": {
      "image/png": "[encoded data removed]",
      "text/plain": [
       "<Figure size 576x576 with 1 Axes>"
      ]
     },
     "metadata": {},
     "output_type": "display_data"
    }
   ],
   "source": [
    "plt.figure(figsize = (8, 8))\n",
    "\n",
    "for i in range(k):\n",
    "    plt.scatter(bc_df.loc[bc_df['cluster'] == i, 'x'], bc_df.loc[bc_df['cluster'] == i, 'y'], \n",
    "                label = 'cluster ' + str(i))\n",
    "\n",
    "plt.legend()\n",
    "plt.title('K = %d results'%k , size = 15)\n",
    "plt.xlabel('x', size = 12)\n",
    "plt.ylabel('y', size = 12)\n",
    "plt.gca().invert_yaxis()\n",
    "plt.show()"
   ]
  },
  {
   "cell_type": "markdown",
   "id": "62918a82-ae80-4567-8362-a24f955ae416",
   "metadata": {},
   "source": [
    "<h3>적절한 k값을 찾아줌(elbow)\n",
    "    검은 점선"
   ]
  },
  {
   "cell_type": "code",
   "execution_count": 109,
   "id": "42e9ef7f-ad11-49f2-95a1-24f7b57a711c",
   "metadata": {},
   "outputs": [
    {
     "data": {
      "image/png": "[encoded data removed]",
      "text/plain": [
       "<Figure size 576x396 with 2 Axes>"
      ]
     },
     "metadata": {},
     "output_type": "display_data"
    }
   ],
   "source": [
    "model = KMeans()\n",
    "visualizer = KElbowVisualizer(model, k=(1,10))\n",
    "vis = visualizer.fit(data_scale)"
   ]
  },
  {
   "cell_type": "code",
   "execution_count": 110,
   "id": "a3150c18-6c34-4f74-867b-efaff4721a62",
   "metadata": {},
   "outputs": [
    {
     "data": {
      "text/html": [
       "<div>\n",
       "<style scoped>\n",
       "    .dataframe tbody tr th:only-of-type {\n",
       "        vertical-align: middle;\n",
       "    }\n",
       "\n",
       "    .dataframe tbody tr th {\n",
       "        vertical-align: top;\n",
       "    }\n",
       "\n",
       "    .dataframe thead th {\n",
       "        text-align: right;\n",
       "    }\n",
       "</style>\n",
       "<table border=\"1\" class=\"dataframe\">\n",
       "  <thead>\n",
       "    <tr style=\"text-align: right;\">\n",
       "      <th></th>\n",
       "      <th>text</th>\n",
       "      <th>x</th>\n",
       "      <th>y</th>\n",
       "      <th>cluster</th>\n",
       "    </tr>\n",
       "  </thead>\n",
       "  <tbody>\n",
       "    <tr>\n",
       "      <th>0</th>\n",
       "      <td>계명산업</td>\n",
       "      <td>1501.50</td>\n",
       "      <td>396.00</td>\n",
       "      <td>2</td>\n",
       "    </tr>\n",
       "    <tr>\n",
       "      <th>1</th>\n",
       "      <td>KEM</td>\n",
       "      <td>578.50</td>\n",
       "      <td>382.00</td>\n",
       "      <td>2</td>\n",
       "    </tr>\n",
       "    <tr>\n",
       "      <th>2</th>\n",
       "      <td>|&gt;</td>\n",
       "      <td>784.00</td>\n",
       "      <td>385.00</td>\n",
       "      <td>2</td>\n",
       "    </tr>\n",
       "    <tr>\n",
       "      <th>3</th>\n",
       "      <td>주식회사</td>\n",
       "      <td>2467.50</td>\n",
       "      <td>423.00</td>\n",
       "      <td>2</td>\n",
       "    </tr>\n",
       "    <tr>\n",
       "      <th>4</th>\n",
       "      <td>kemico.</td>\n",
       "      <td>658.25</td>\n",
       "      <td>665.50</td>\n",
       "      <td>2</td>\n",
       "    </tr>\n",
       "    <tr>\n",
       "      <th>...</th>\n",
       "      <td>...</td>\n",
       "      <td>...</td>\n",
       "      <td>...</td>\n",
       "      <td>...</td>\n",
       "    </tr>\n",
       "    <tr>\n",
       "      <th>85</th>\n",
       "      <td>14001</td>\n",
       "      <td>552.00</td>\n",
       "      <td>2018.00</td>\n",
       "      <td>1</td>\n",
       "    </tr>\n",
       "    <tr>\n",
       "      <th>86</th>\n",
       "      <td>|</td>\n",
       "      <td>671.00</td>\n",
       "      <td>2017.25</td>\n",
       "      <td>1</td>\n",
       "    </tr>\n",
       "    <tr>\n",
       "      <th>87</th>\n",
       "      <td>14001</td>\n",
       "      <td>895.00</td>\n",
       "      <td>2018.00</td>\n",
       "      <td>1</td>\n",
       "    </tr>\n",
       "    <tr>\n",
       "      <th>88</th>\n",
       "      <td>IISO</td>\n",
       "      <td>384.00</td>\n",
       "      <td>2020.00</td>\n",
       "      <td>1</td>\n",
       "    </tr>\n",
       "    <tr>\n",
       "      <th>89</th>\n",
       "      <td>KS</td>\n",
       "      <td>275.00</td>\n",
       "      <td>2020.00</td>\n",
       "      <td>1</td>\n",
       "    </tr>\n",
       "  </tbody>\n",
       "</table>\n",
       "<p>90 rows × 4 columns</p>\n",
       "</div>"
      ],
      "text/plain": [
       "       text        x        y  cluster\n",
       "0      계명산업  1501.50   396.00        2\n",
       "1       KEM   578.50   382.00        2\n",
       "2        |>   784.00   385.00        2\n",
       "3      주식회사  2467.50   423.00        2\n",
       "4   kemico.   658.25   665.50        2\n",
       "..      ...      ...      ...      ...\n",
       "85    14001   552.00  2018.00        1\n",
       "86        |   671.00  2017.25        1\n",
       "87    14001   895.00  2018.00        1\n",
       "88     IISO   384.00  2020.00        1\n",
       "89       KS   275.00  2020.00        1\n",
       "\n",
       "[90 rows x 4 columns]"
      ]
     },
     "execution_count": 110,
     "metadata": {},
     "output_type": "execute_result"
    }
   ],
   "source": [
    "bc_df"
   ]
  },
  {
   "cell_type": "code",
   "execution_count": null,
   "id": "3d74b6c6-e700-4278-a462-cbc6ca4bc00b",
   "metadata": {},
   "outputs": [],
   "source": []
  }
 ],
 "metadata": {
  "kernelspec": {
   "display_name": "Python 3 (ipykernel)",
   "language": "python",
   "name": "python3"
  },
  "language_info": {
   "codemirror_mode": {
    "name": "ipython",
    "version": 3
   },
   "file_extension": ".py",
   "mimetype": "text/x-python",
   "name": "python",
   "nbconvert_exporter": "python",
   "pygments_lexer": "ipython3",
   "version": "3.8.5"
  }
 },
 "nbformat": 4,
 "nbformat_minor": 5
}
