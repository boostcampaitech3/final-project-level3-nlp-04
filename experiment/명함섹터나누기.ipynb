{
 "cells": [
  {
   "cell_type": "markdown",
   "id": "88512080-286f-49a8-ae8b-15023035f709",
   "metadata": {},
   "source": [
    "만약 줄이 비슷하고, 간격이 거의 안떨어져있다면 룰베이스로 이어보자!\n",
    "\n",
    "코딩테스트처럼 강건한 알고리즘이 필요하다.\n",
    "\n",
    "명함 내부의 섹터 나누기?\n",
    "\n",
    "사진을 나누기\n",
    "\n",
    "로케이션 좌표 위치 기준으로 싹싹 자르기\n",
    "\n",
    "미니멈 높이를 기준으로 가운데 점을 정해서 나누자\n",
    "\n",
    "예외처리에서 아무해당이 없는 것은 회사명 또는 직책정도로 분류할 수 있도록 해보자!"
   ]
  }
 ],
 "metadata": {
  "kernelspec": {
   "display_name": "Python 3 (ipykernel)",
   "language": "python",
   "name": "python3"
  },
  "language_info": {
   "codemirror_mode": {
    "name": "ipython",
    "version": 3
   },
   "file_extension": ".py",
   "mimetype": "text/x-python",
   "name": "python",
   "nbconvert_exporter": "python",
   "pygments_lexer": "ipython3",
   "version": "3.8.5"
  }
 },
 "nbformat": 4,
 "nbformat_minor": 5
}
