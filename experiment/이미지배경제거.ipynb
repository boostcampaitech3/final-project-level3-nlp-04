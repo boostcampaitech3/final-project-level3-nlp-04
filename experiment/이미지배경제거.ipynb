{
 "cells": [
  {
   "cell_type": "markdown",
   "id": "b33b5249-5a5c-46dd-be4b-965de56baef5",
   "metadata": {},
   "source": [
    "image api -> find location -> cut image by location (re api) "
   ]
  },
  {
   "cell_type": "code",
   "execution_count": null,
   "id": "2e54f227-e075-439b-8bc4-4f091422f179",
   "metadata": {},
   "outputs": [],
   "source": []
  }
 ],
 "metadata": {
  "kernelspec": {
   "display_name": "Python 3 (ipykernel)",
   "language": "python",
   "name": "python3"
  },
  "language_info": {
   "codemirror_mode": {
    "name": "ipython",
    "version": 3
   },
   "file_extension": ".py",
   "mimetype": "text/x-python",
   "name": "python",
   "nbconvert_exporter": "python",
   "pygments_lexer": "ipython3",
   "version": "3.8.5"
  }
 },
 "nbformat": 4,
 "nbformat_minor": 5
}
